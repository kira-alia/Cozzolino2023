{
 "cells": [
  {
   "cell_type": "code",
   "execution_count": 70,
   "metadata": {
    "ExecuteTime": {
     "end_time": "2023-02-09T21:19:26.684339Z",
     "start_time": "2023-02-09T21:19:26.678252Z"
    }
   },
   "outputs": [],
   "source": [
    "import pandas as pd\n",
    "import os"
   ]
  },
  {
   "cell_type": "markdown",
   "metadata": {},
   "source": [
    "# formating data"
   ]
  },
  {
   "cell_type": "code",
   "execution_count": 52,
   "metadata": {
    "ExecuteTime": {
     "end_time": "2023-02-09T20:36:34.975895Z",
     "start_time": "2023-02-09T20:36:34.958105Z"
    }
   },
   "outputs": [
    {
     "data": {
      "text/plain": [
       "105"
      ]
     },
     "execution_count": 52,
     "metadata": {},
     "output_type": "execute_result"
    }
   ],
   "source": [
    "df = pd.read_csv('/Users/tajo5912/anova_down/forANOVA.csv',\n",
    "                sep=',')\n",
    "df['cond_rep'] = df['Condition'] + ';' + df['BioRep']\n",
    "\n",
    "cy_list = list(set(df['Cytokine']))\n",
    "cy_list.sort()\n",
    "len(cy_list)"
   ]
  },
  {
   "cell_type": "code",
   "execution_count": 53,
   "metadata": {
    "ExecuteTime": {
     "end_time": "2023-02-09T20:36:36.290462Z",
     "start_time": "2023-02-09T20:36:36.281943Z"
    }
   },
   "outputs": [
    {
     "data": {
      "text/plain": [
       "['T21_CA;R1',\n",
       " 'D21_Control;R1',\n",
       " 'D21_CA;R2',\n",
       " 'D21_IFN_CA;R2',\n",
       " 'T21_IFN_CA;R2',\n",
       " 'D21_Control;R2',\n",
       " 'T21_IFN;R1',\n",
       " 'T21_Control;R2',\n",
       " 'T21_IFN_CA;R1',\n",
       " 'D21_IFN_CA;R1',\n",
       " 'D21_IFN;R1',\n",
       " 'T21_CA;R2',\n",
       " 'D21_IFN;R2',\n",
       " 'T21_IFN;R2',\n",
       " 'T21_Control;R1',\n",
       " 'D21_CA;R1']"
      ]
     },
     "execution_count": 53,
     "metadata": {},
     "output_type": "execute_result"
    }
   ],
   "source": [
    "minidf = df[df['Cytokine'] == cy_list[0]]\n",
    "tech_rep_list = list(set(df['cond_rep']))\n",
    "len(tech_rep_list)\n",
    "tech_rep_list"
   ]
  },
  {
   "cell_type": "code",
   "execution_count": 54,
   "metadata": {
    "ExecuteTime": {
     "end_time": "2023-02-09T20:36:40.591218Z",
     "start_time": "2023-02-09T20:36:38.756825Z"
    }
   },
   "outputs": [],
   "source": [
    "av_list = []\n",
    "for cy in cy_list:\n",
    "    minidf = df[df['Cytokine'] == cy]\n",
    "    for tech in tech_rep_list:\n",
    "        minitech = minidf[minidf['cond_rep'] == tech]['Value'].sum()/2\n",
    "        av_list.append([cy,tech,minitech])"
   ]
  },
  {
   "cell_type": "code",
   "execution_count": 55,
   "metadata": {
    "ExecuteTime": {
     "end_time": "2023-02-09T20:36:40.972280Z",
     "start_time": "2023-02-09T20:36:40.962996Z"
    }
   },
   "outputs": [
    {
     "data": {
      "text/plain": [
       "True"
      ]
     },
     "execution_count": 55,
     "metadata": {},
     "output_type": "execute_result"
    }
   ],
   "source": [
    "avdf=pd.DataFrame.from_records(av_list)\n",
    "avdf.columns = ['cytokine', 'cond_rep', 'value']\n",
    "len(df) == len(avdf)*2"
   ]
  },
  {
   "cell_type": "code",
   "execution_count": 60,
   "metadata": {
    "ExecuteTime": {
     "end_time": "2023-02-09T20:37:12.041364Z",
     "start_time": "2023-02-09T20:37:12.030271Z"
    }
   },
   "outputs": [],
   "source": [
    "avdf['sample'] = avdf['cond_rep'].str.split(';',expand=True)[0]"
   ]
  },
  {
   "cell_type": "code",
   "execution_count": 61,
   "metadata": {
    "ExecuteTime": {
     "end_time": "2023-02-09T20:37:15.164144Z",
     "start_time": "2023-02-09T20:37:15.146520Z"
    }
   },
   "outputs": [],
   "source": [
    "avdf.sort_values(by=['cytokine','sample']).to_csv('/Users/tajo5912/anova_down/av_values_for_anova.txt',\n",
    "           sep='\\t', index=False)"
   ]
  },
  {
   "cell_type": "code",
   "execution_count": 64,
   "metadata": {
    "ExecuteTime": {
     "end_time": "2023-02-09T20:48:30.123080Z",
     "start_time": "2023-02-09T20:48:30.117334Z"
    }
   },
   "outputs": [],
   "source": [
    "avdf['sample'].unique()\n",
    "\n",
    "dd={'T21_CA':'G', \n",
    "    'D21_Control':'A', 'D21_CA':'C', 'D21_IFN_CA':'D', 'T21_IFN_CA':'H',\n",
    "       'T21_IFN':'F', 'T21_Control':'E', 'D21_IFN':'B'}"
   ]
  },
  {
   "cell_type": "code",
   "execution_count": 66,
   "metadata": {
    "ExecuteTime": {
     "end_time": "2023-02-09T20:51:02.858166Z",
     "start_time": "2023-02-09T20:51:02.848964Z"
    }
   },
   "outputs": [],
   "source": [
    "avdf['sample_group'] = avdf['sample']\n",
    "avdf=avdf.replace({\"sample_group\": dd})"
   ]
  },
  {
   "cell_type": "code",
   "execution_count": 68,
   "metadata": {
    "ExecuteTime": {
     "end_time": "2023-02-09T20:51:32.891493Z",
     "start_time": "2023-02-09T20:51:32.873526Z"
    }
   },
   "outputs": [],
   "source": [
    "avdf.sort_values(by=['cytokine','sample_group']).to_csv('/Users/tajo5912/anova_down/av_values_for_anova.txt',\n",
    "           sep='\\t', index=False)"
   ]
  },
  {
   "cell_type": "markdown",
   "metadata": {},
   "source": [
    "# submitting jobs"
   ]
  },
  {
   "cell_type": "code",
   "execution_count": 74,
   "metadata": {
    "ExecuteTime": {
     "end_time": "2023-02-09T21:49:59.880783Z",
     "start_time": "2023-02-09T21:28:51.460710Z"
    }
   },
   "outputs": [],
   "source": [
    "script='/Users/tajo5912/anova_down/submit_anova.sbatch'\n",
    "samples = list(set(avdf['sample']))\n",
    "for sample in samples:\n",
    "    for cy in cy_list:\n",
    "        os.system('sbatch ' + script + ' ' + cy + ' ' + sample)\n",
    "#     os.system('mkdir ' + '/Users/tajo5912/anova_down/' + sample)"
   ]
  },
  {
   "cell_type": "markdown",
   "metadata": {},
   "source": [
    "# cat jobs"
   ]
  },
  {
   "cell_type": "code",
   "execution_count": 84,
   "metadata": {
    "ExecuteTime": {
     "end_time": "2023-02-09T22:03:51.135367Z",
     "start_time": "2023-02-09T22:03:47.237424Z"
    }
   },
   "outputs": [],
   "source": [
    "# open the sample file used\n",
    "for sample in samples:\n",
    "    bigdf=pd.DataFrame()\n",
    "    for cy in cy_list:\n",
    "        file = open('/Users/tajo5912/anova_down/'+sample+'/'+cy+'.txt')\n",
    "        content = file.readlines()\n",
    "        ll=[]\n",
    "        for i in range(len(content)):\n",
    "            if 'Intercept' in content[i]:\n",
    "                ll.append(i)\n",
    "            if '---' in content[i]:\n",
    "                ll.append(i)\n",
    "        try:\n",
    "            content=content[ll[0]:ll[1]]\n",
    "        except:\n",
    "            ll=[]\n",
    "            for i in range(len(content)):\n",
    "                if 'Intercept' in content[i]:\n",
    "                    ll.append(i)\n",
    "                if 'freedom' in content[i]:\n",
    "                    ll.append(i-1)\n",
    "            content=content[ll[0]:ll[1]]\n",
    "        clo=[]\n",
    "        for i in content:\n",
    "            i=i.replace(\"sample\", \"\")\n",
    "            i=i.replace('*', '')\n",
    "            i=\" \".join(i.split())\n",
    "            i=i.replace(' ', ',')\n",
    "            i=i.split(',')\n",
    "            clo.append(i)\n",
    "        clo = pd.DataFrame.from_records(clo)\n",
    "        clo['cytokine'] =cy\n",
    "        bigdf=pd.concat([bigdf,clo])\n",
    "    bigdf.to_csv('/Users/tajo5912/anova_down/'+ sample + '_combined_output.txt', sep='\\t', index=False)"
   ]
  }
 ],
 "metadata": {
  "kernelspec": {
   "display_name": "Python 3",
   "language": "python",
   "name": "python3"
  },
  "language_info": {
   "codemirror_mode": {
    "name": "ipython",
    "version": 3
   },
   "file_extension": ".py",
   "mimetype": "text/x-python",
   "name": "python",
   "nbconvert_exporter": "python",
   "pygments_lexer": "ipython3",
   "version": "3.6.3"
  },
  "toc": {
   "base_numbering": 1,
   "nav_menu": {},
   "number_sections": true,
   "sideBar": true,
   "skip_h1_title": false,
   "title_cell": "Table of Contents",
   "title_sidebar": "Contents",
   "toc_cell": false,
   "toc_position": {},
   "toc_section_display": true,
   "toc_window_display": false
  }
 },
 "nbformat": 4,
 "nbformat_minor": 2
}
